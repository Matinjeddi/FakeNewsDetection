{
 "cells": [
  {
   "cell_type": "code",
   "execution_count": 2,
   "metadata": {},
   "outputs": [
    {
     "name": "stderr",
     "output_type": "stream",
     "text": [
      "c:\\Users\\Matin\\Desktop\\Examensarbete 2025\\WPFN\\venv\\Lib\\site-packages\\tqdm\\auto.py:21: TqdmWarning: IProgress not found. Please update jupyter and ipywidgets. See https://ipywidgets.readthedocs.io/en/stable/user_install.html\n",
      "  from .autonotebook import tqdm as notebook_tqdm\n"
     ]
    }
   ],
   "source": [
    "from transformers import TextClassificationPipeline, DistilBertTokenizer, DistilBertForSequenceClassification,AutoTokenizer, RobertaTokenizer, RobertaForSequenceClassification, BertForSequenceClassification, BertTokenizer, AlbertForSequenceClassification, AlbertTokenizer, Trainer, TrainingArguments\n",
    "from datasets import load_dataset, Dataset\n",
    "from sklearn.model_selection import train_test_split\n",
    "from sklearn.metrics import classification_report\n",
    "import pandas as pd\n",
    "import numpy\n",
    "import torch"
   ]
  },
  {
   "cell_type": "code",
   "execution_count": 3,
   "metadata": {},
   "outputs": [],
   "source": [
    "df = pd.read_csv('datasets/fake_or_real_news_cleaned.csv')\n"
   ]
  },
  {
   "cell_type": "code",
   "execution_count": 4,
   "metadata": {},
   "outputs": [
    {
     "name": "stdout",
     "output_type": "stream",
     "text": [
      "<class 'pandas.core.frame.DataFrame'>\n",
      "RangeIndex: 6335 entries, 0 to 6334\n",
      "Data columns (total 2 columns):\n",
      " #   Column  Non-Null Count  Dtype \n",
      "---  ------  --------------  ----- \n",
      " 0   text    6335 non-null   object\n",
      " 1   label   6335 non-null   int64 \n",
      "dtypes: int64(1), object(1)\n",
      "memory usage: 99.1+ KB\n"
     ]
    }
   ],
   "source": [
    "df.info()"
   ]
  },
  {
   "cell_type": "code",
   "execution_count": 5,
   "metadata": {},
   "outputs": [],
   "source": [
    "roberta_path = r'models\\fake-news-roberta'\n",
    "bert_path = r'models\\fake-news-bert'\n",
    "albert_path = r'models\\fake-news-albert'"
   ]
  },
  {
   "cell_type": "code",
   "execution_count": 6,
   "metadata": {},
   "outputs": [],
   "source": [
    "roberta_model = RobertaForSequenceClassification.from_pretrained(roberta_path, num_labels=2)\n",
    "bert_model = BertForSequenceClassification.from_pretrained(bert_path, num_labels=2)\n",
    "albert_model = AlbertForSequenceClassification.from_pretrained(albert_path, num_labels=2)\n",
    "\n",
    "roberta_tokenizer = RobertaTokenizer.from_pretrained('roberta-base')\n",
    "bert_tokenizer = BertTokenizer.from_pretrained('bert-base-uncased')\n",
    "albert_tokenizer = AutoTokenizer.from_pretrained('albert-base-v2')"
   ]
  },
  {
   "cell_type": "code",
   "execution_count": 7,
   "metadata": {},
   "outputs": [],
   "source": [
    "train_df, test_df = train_test_split(df, test_size=0.2, random_state=42)"
   ]
  },
  {
   "cell_type": "code",
   "execution_count": 8,
   "metadata": {},
   "outputs": [],
   "source": [
    "texts = test_df['text'].tolist()\n",
    "true_labels = test_df['label'].tolist()"
   ]
  },
  {
   "cell_type": "code",
   "execution_count": 9,
   "metadata": {},
   "outputs": [],
   "source": [
    "texts = [text[:512] for text in texts]"
   ]
  },
  {
   "cell_type": "code",
   "execution_count": 37,
   "metadata": {},
   "outputs": [],
   "source": [
    "batch_size = 2\n",
    "predicted_labels = []\n",
    "\n",
    "for i in range(0, len(texts), batch_size):\n",
    "    batch_texts = texts[i:i + batch_size]\n",
    "    inputs = roberta_tokenizer(batch_texts, padding=True, truncation=True, return_tensors=\"pt\")\n",
    "    outputs = roberta_model(**inputs)\n",
    "\n",
    "    logits = outputs.logits  # [batch_size, num_labels]\n",
    "    batch_preds = torch.argmax(logits, dim=1)  # [batch_size]\n",
    "    predicted_labels.extend(batch_preds.tolist())  # [0, 1, 2, ...]\n",
    "\n"
   ]
  },
  {
   "cell_type": "code",
   "execution_count": 51,
   "metadata": {},
   "outputs": [],
   "source": [
    "y_true = true_labels\n",
    "y_pred = predicted_labels"
   ]
  },
  {
   "cell_type": "code",
   "execution_count": 52,
   "metadata": {},
   "outputs": [
    {
     "name": "stdout",
     "output_type": "stream",
     "text": [
      "              precision    recall  f1-score   support\n",
      "\n",
      "           0       1.00      1.00      1.00       639\n",
      "           1       1.00      1.00      1.00       628\n",
      "\n",
      "    accuracy                           1.00      1267\n",
      "   macro avg       1.00      1.00      1.00      1267\n",
      "weighted avg       1.00      1.00      1.00      1267\n",
      "\n"
     ]
    }
   ],
   "source": [
    "print(classification_report(y_true, y_pred))"
   ]
  },
  {
   "cell_type": "code",
   "execution_count": 54,
   "metadata": {},
   "outputs": [],
   "source": [
    "batch_size = 2\n",
    "predicted_labels = []\n",
    "\n",
    "for i in range(0, len(texts), batch_size):\n",
    "    batch_texts = texts[i:i + batch_size]\n",
    "    inputs = bert_tokenizer(batch_texts, padding=True, truncation=True, return_tensors=\"pt\")\n",
    "    outputs = bert_model(**inputs)\n",
    "\n",
    "    logits = outputs.logits  # [batch_size, num_labels]\n",
    "    batch_preds = torch.argmax(logits, dim=1)  # [batch_size]\n",
    "    predicted_labels.extend(batch_preds.tolist()) # [0, 1, 0, 1]"
   ]
  },
  {
   "cell_type": "code",
   "execution_count": 55,
   "metadata": {},
   "outputs": [
    {
     "name": "stdout",
     "output_type": "stream",
     "text": [
      "              precision    recall  f1-score   support\n",
      "\n",
      "           0       0.99      0.99      0.99       639\n",
      "           1       0.99      0.99      0.99       628\n",
      "\n",
      "    accuracy                           0.99      1267\n",
      "   macro avg       0.99      0.99      0.99      1267\n",
      "weighted avg       0.99      0.99      0.99      1267\n",
      "\n"
     ]
    }
   ],
   "source": [
    "y_true = true_labels\n",
    "y_pred = predicted_labels\n",
    "print(classification_report(y_true, y_pred))\n"
   ]
  },
  {
   "cell_type": "code",
   "execution_count": 10,
   "metadata": {},
   "outputs": [],
   "source": [
    "batch_size = 2\n",
    "predicted_labels = []\n",
    "\n",
    "for i in range(0, len(texts), batch_size):\n",
    "    batch_texts = texts[i:i + batch_size]\n",
    "    inputs = albert_tokenizer(batch_texts, padding=True, truncation=True, return_tensors=\"pt\")\n",
    "    outputs = albert_model(**inputs)\n",
    "\n",
    "    logits = outputs.logits  # [batch_size, num_labels]\n",
    "    batch_preds = torch.argmax(logits, dim=1)  # [batch_size]\n",
    "    predicted_labels.extend(batch_preds.tolist()) # [0, 1, 0, 1]"
   ]
  },
  {
   "cell_type": "code",
   "execution_count": 11,
   "metadata": {},
   "outputs": [
    {
     "name": "stdout",
     "output_type": "stream",
     "text": [
      "              precision    recall  f1-score   support\n",
      "\n",
      "           0       1.00      0.98      0.99       639\n",
      "           1       0.98      1.00      0.99       628\n",
      "\n",
      "    accuracy                           0.99      1267\n",
      "   macro avg       0.99      0.99      0.99      1267\n",
      "weighted avg       0.99      0.99      0.99      1267\n",
      "\n"
     ]
    }
   ],
   "source": [
    "y_true = true_labels\n",
    "y_pred = predicted_labels\n",
    "print(classification_report(y_true, y_pred))"
   ]
  }
 ],
 "metadata": {
  "kernelspec": {
   "display_name": "venv",
   "language": "python",
   "name": "python3"
  },
  "language_info": {
   "codemirror_mode": {
    "name": "ipython",
    "version": 3
   },
   "file_extension": ".py",
   "mimetype": "text/x-python",
   "name": "python",
   "nbconvert_exporter": "python",
   "pygments_lexer": "ipython3",
   "version": "3.12.0"
  }
 },
 "nbformat": 4,
 "nbformat_minor": 2
}
