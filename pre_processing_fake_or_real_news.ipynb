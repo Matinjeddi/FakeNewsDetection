{
 "cells": [
  {
   "cell_type": "code",
   "execution_count": 3,
   "metadata": {},
   "outputs": [],
   "source": [
    "import pandas as pd"
   ]
  },
  {
   "cell_type": "code",
   "execution_count": 4,
   "metadata": {},
   "outputs": [],
   "source": [
    "data = pd.read_csv('datasets/fake_or_real_news.csv', encoding='utf-8', on_bad_lines='skip', engine='python')"
   ]
  },
  {
   "cell_type": "code",
   "execution_count": 5,
   "metadata": {},
   "outputs": [
    {
     "name": "stdout",
     "output_type": "stream",
     "text": [
      "   Unnamed: 0                                              title  \\\n",
      "0        8476                       You Can Smell Hillary’s Fear   \n",
      "1       10294  Watch The Exact Moment Paul Ryan Committed Pol...   \n",
      "2        3608        Kerry to go to Paris in gesture of sympathy   \n",
      "3       10142  Bernie supporters on Twitter erupt in anger ag...   \n",
      "4         875   The Battle of New York: Why This Primary Matters   \n",
      "\n",
      "                                                text label  \n",
      "0  Daniel Greenfield, a Shillman Journalism Fello...  FAKE  \n",
      "1  Google Pinterest Digg Linkedin Reddit Stumbleu...  FAKE  \n",
      "2  U.S. Secretary of State John F. Kerry said Mon...  REAL  \n",
      "3  — Kaydee King (@KaydeeKing) November 9, 2016 T...  FAKE  \n",
      "4  It's primary day in New York and front-runners...  REAL  \n"
     ]
    }
   ],
   "source": [
    "print(data.head())"
   ]
  },
  {
   "cell_type": "code",
   "execution_count": 6,
   "metadata": {},
   "outputs": [
    {
     "name": "stdout",
     "output_type": "stream",
     "text": [
      "<bound method NDFrame.head of                                                   title  \\\n",
      "0                          You Can Smell Hillary’s Fear   \n",
      "1     Watch The Exact Moment Paul Ryan Committed Pol...   \n",
      "2           Kerry to go to Paris in gesture of sympathy   \n",
      "3     Bernie supporters on Twitter erupt in anger ag...   \n",
      "4      The Battle of New York: Why This Primary Matters   \n",
      "...                                                 ...   \n",
      "6330  State Department says it can't find emails fro...   \n",
      "6331  The ‘P’ in PBS Should Stand for ‘Plutocratic’ ...   \n",
      "6332  Anti-Trump Protesters Are Tools of the Oligarc...   \n",
      "6333  In Ethiopia, Obama seeks progress on peace, se...   \n",
      "6334  Jeb Bush Is Suddenly Attacking Trump. Here's W...   \n",
      "\n",
      "                                                   text label  \n",
      "0     Daniel Greenfield, a Shillman Journalism Fello...  FAKE  \n",
      "1     Google Pinterest Digg Linkedin Reddit Stumbleu...  FAKE  \n",
      "2     U.S. Secretary of State John F. Kerry said Mon...  REAL  \n",
      "3     — Kaydee King (@KaydeeKing) November 9, 2016 T...  FAKE  \n",
      "4     It's primary day in New York and front-runners...  REAL  \n",
      "...                                                 ...   ...  \n",
      "6330  The State Department told the Republican Natio...  REAL  \n",
      "6331  The ‘P’ in PBS Should Stand for ‘Plutocratic’ ...  FAKE  \n",
      "6332   Anti-Trump Protesters Are Tools of the Oligar...  FAKE  \n",
      "6333  ADDIS ABABA, Ethiopia —President Obama convene...  REAL  \n",
      "6334  Jeb Bush Is Suddenly Attacking Trump. Here's W...  REAL  \n",
      "\n",
      "[6335 rows x 3 columns]>\n"
     ]
    }
   ],
   "source": [
    "data = data.drop(data.columns[0], axis=1)\n",
    "print(data.head)"
   ]
  },
  {
   "cell_type": "code",
   "execution_count": 7,
   "metadata": {},
   "outputs": [
    {
     "name": "stdout",
     "output_type": "stream",
     "text": [
      "<bound method NDFrame.head of                                                    text label\n",
      "0     You Can Smell Hillary’s Fear\\n\\nDaniel Greenfi...  FAKE\n",
      "1     Watch The Exact Moment Paul Ryan Committed Pol...  FAKE\n",
      "2     Kerry to go to Paris in gesture of sympathy\\n\\...  REAL\n",
      "3     Bernie supporters on Twitter erupt in anger ag...  FAKE\n",
      "4     The Battle of New York: Why This Primary Matte...  REAL\n",
      "...                                                 ...   ...\n",
      "6330  State Department says it can't find emails fro...  REAL\n",
      "6331  The ‘P’ in PBS Should Stand for ‘Plutocratic’ ...  FAKE\n",
      "6332  Anti-Trump Protesters Are Tools of the Oligarc...  FAKE\n",
      "6333  In Ethiopia, Obama seeks progress on peace, se...  REAL\n",
      "6334  Jeb Bush Is Suddenly Attacking Trump. Here's W...  REAL\n",
      "\n",
      "[6335 rows x 2 columns]>\n"
     ]
    }
   ],
   "source": [
    "data['text'] = data['title'] + '\\n\\n' + data['text']\n",
    "data = data.drop(['title'], axis=1)\n",
    "print(data.head)"
   ]
  },
  {
   "cell_type": "code",
   "execution_count": 8,
   "metadata": {},
   "outputs": [
    {
     "name": "stdout",
     "output_type": "stream",
     "text": [
      "<bound method NDFrame.head of                                                    text  label\n",
      "0     You Can Smell Hillary’s Fear\\n\\nDaniel Greenfi...      1\n",
      "1     Watch The Exact Moment Paul Ryan Committed Pol...      1\n",
      "2     Kerry to go to Paris in gesture of sympathy\\n\\...      0\n",
      "3     Bernie supporters on Twitter erupt in anger ag...      1\n",
      "4     The Battle of New York: Why This Primary Matte...      0\n",
      "...                                                 ...    ...\n",
      "6330  State Department says it can't find emails fro...      0\n",
      "6331  The ‘P’ in PBS Should Stand for ‘Plutocratic’ ...      1\n",
      "6332  Anti-Trump Protesters Are Tools of the Oligarc...      1\n",
      "6333  In Ethiopia, Obama seeks progress on peace, se...      0\n",
      "6334  Jeb Bush Is Suddenly Attacking Trump. Here's W...      0\n",
      "\n",
      "[6335 rows x 2 columns]>\n"
     ]
    }
   ],
   "source": [
    "#fake = 0, real = 1\n",
    "data['label'] = data['label'].map({'FAKE': 1, 'REAL': 0})\n",
    "print(data.head)"
   ]
  },
  {
   "cell_type": "code",
   "execution_count": 9,
   "metadata": {},
   "outputs": [],
   "source": [
    "data.to_csv('datasets/fake_or_real_news_cleaned.csv', index=False)\n"
   ]
  }
 ],
 "metadata": {
  "kernelspec": {
   "display_name": "venv",
   "language": "python",
   "name": "python3"
  },
  "language_info": {
   "codemirror_mode": {
    "name": "ipython",
    "version": 3
   },
   "file_extension": ".py",
   "mimetype": "text/x-python",
   "name": "python",
   "nbconvert_exporter": "python",
   "pygments_lexer": "ipython3",
   "version": "3.12.0"
  }
 },
 "nbformat": 4,
 "nbformat_minor": 2
}
