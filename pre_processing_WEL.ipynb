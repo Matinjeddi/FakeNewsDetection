{
 "cells": [
  {
   "cell_type": "code",
   "execution_count": 4,
   "metadata": {},
   "outputs": [],
   "source": [
    "import pandas as pd"
   ]
  },
  {
   "cell_type": "code",
   "execution_count": null,
   "metadata": {},
   "outputs": [],
   "source": [
    "data = pd.read_csv('datasets/WELFake_Dataset.csv', sep=',', on_bad_lines='skip')"
   ]
  },
  {
   "cell_type": "code",
   "execution_count": 7,
   "metadata": {},
   "outputs": [
    {
     "name": "stdout",
     "output_type": "stream",
     "text": [
      "   Unnamed: 0                                              title  \\\n",
      "0           0  LAW ENFORCEMENT ON HIGH ALERT Following Threat...   \n",
      "1           2  UNBELIEVABLE! OBAMA’S ATTORNEY GENERAL SAYS MO...   \n",
      "2           3  Bobby Jindal, raised Hindu, uses story of Chri...   \n",
      "3           4  SATAN 2: Russia unvelis an image of its terrif...   \n",
      "4           5  About Time! Christian Group Sues Amazon and SP...   \n",
      "\n",
      "                                                text  label  \n",
      "0                                                NaN    NaN  \n",
      "1   Now, most of the demonstrators gathered last ...    1.0  \n",
      "2  A dozen politically active pastors came here f...    0.0  \n",
      "3  The RS-28 Sarmat missile, dubbed Satan 2, will...    1.0  \n",
      "4  All we can say on this one is it s about time ...    1.0  \n"
     ]
    }
   ],
   "source": [
    "print(data.head())"
   ]
  },
  {
   "cell_type": "code",
   "execution_count": 8,
   "metadata": {},
   "outputs": [
    {
     "name": "stdout",
     "output_type": "stream",
     "text": [
      "<bound method NDFrame.head of                                                    title  \\\n",
      "0      LAW ENFORCEMENT ON HIGH ALERT Following Threat...   \n",
      "1      UNBELIEVABLE! OBAMA’S ATTORNEY GENERAL SAYS MO...   \n",
      "2      Bobby Jindal, raised Hindu, uses story of Chri...   \n",
      "3      SATAN 2: Russia unvelis an image of its terrif...   \n",
      "4      About Time! Christian Group Sues Amazon and SP...   \n",
      "...                                                  ...   \n",
      "72128  Russians steal research on Trump in hack of U....   \n",
      "72129   WATCH: Giuliani Demands That Democrats Apolog...   \n",
      "72130  Migrants Refuse To Leave Train At Refugee Camp...   \n",
      "72131  Trump tussle gives unpopular Mexican leader mu...   \n",
      "72132  Goldman Sachs Endorses Hillary Clinton For Pre...   \n",
      "\n",
      "                                                    text  label  \n",
      "0                                                    NaN    NaN  \n",
      "1       Now, most of the demonstrators gathered last ...    1.0  \n",
      "2      A dozen politically active pastors came here f...    0.0  \n",
      "3      The RS-28 Sarmat missile, dubbed Satan 2, will...    1.0  \n",
      "4      All we can say on this one is it s about time ...    1.0  \n",
      "...                                                  ...    ...  \n",
      "72128  WASHINGTON (Reuters) - Hackers believed to be ...    0.0  \n",
      "72129  You know, because in fantasyland Republicans n...    1.0  \n",
      "72130  Migrants Refuse To Leave Train At Refugee Camp...    0.0  \n",
      "72131  MEXICO CITY (Reuters) - Donald Trump’s combati...    0.0  \n",
      "72132  Goldman Sachs Endorses Hillary Clinton For Pre...    1.0  \n",
      "\n",
      "[72133 rows x 3 columns]>\n"
     ]
    }
   ],
   "source": [
    "data = data.drop(data.columns[0], axis=1)\n",
    "print(data.head)"
   ]
  },
  {
   "cell_type": "code",
   "execution_count": 9,
   "metadata": {},
   "outputs": [
    {
     "name": "stdout",
     "output_type": "stream",
     "text": [
      "<bound method NDFrame.head of                                                     text  label\n",
      "0                                                    NaN    NaN\n",
      "1      UNBELIEVABLE! OBAMA’S ATTORNEY GENERAL SAYS MO...    1.0\n",
      "2      Bobby Jindal, raised Hindu, uses story of Chri...    0.0\n",
      "3      SATAN 2: Russia unvelis an image of its terrif...    1.0\n",
      "4      About Time! Christian Group Sues Amazon and SP...    1.0\n",
      "...                                                  ...    ...\n",
      "72128  Russians steal research on Trump in hack of U....    0.0\n",
      "72129   WATCH: Giuliani Demands That Democrats Apolog...    1.0\n",
      "72130  Migrants Refuse To Leave Train At Refugee Camp...    0.0\n",
      "72131  Trump tussle gives unpopular Mexican leader mu...    0.0\n",
      "72132  Goldman Sachs Endorses Hillary Clinton For Pre...    1.0\n",
      "\n",
      "[72133 rows x 2 columns]>\n"
     ]
    }
   ],
   "source": [
    "#combine title and text\n",
    "data['text'] = data['title'] + '\\n\\n' + data['text']\n",
    "data = data.drop(['title'], axis=1)\n",
    "print(data.head)"
   ]
  },
  {
   "cell_type": "code",
   "execution_count": 10,
   "metadata": {},
   "outputs": [],
   "source": [
    "data.dropna(subset=['text'], inplace=True)\n",
    "data = data.reset_index(drop=True)"
   ]
  },
  {
   "cell_type": "code",
   "execution_count": 11,
   "metadata": {},
   "outputs": [
    {
     "name": "stdout",
     "output_type": "stream",
     "text": [
      "<bound method NDFrame.head of                                                     text  label\n",
      "0      UNBELIEVABLE! OBAMA’S ATTORNEY GENERAL SAYS MO...    1.0\n",
      "1      Bobby Jindal, raised Hindu, uses story of Chri...    0.0\n",
      "2      SATAN 2: Russia unvelis an image of its terrif...    1.0\n",
      "3      About Time! Christian Group Sues Amazon and SP...    1.0\n",
      "4      DR BEN CARSON TARGETED BY THE IRS: “I never ha...    1.0\n",
      "...                                                  ...    ...\n",
      "71531  Russians steal research on Trump in hack of U....    0.0\n",
      "71532   WATCH: Giuliani Demands That Democrats Apolog...    1.0\n",
      "71533  Migrants Refuse To Leave Train At Refugee Camp...    0.0\n",
      "71534  Trump tussle gives unpopular Mexican leader mu...    0.0\n",
      "71535  Goldman Sachs Endorses Hillary Clinton For Pre...    1.0\n",
      "\n",
      "[71536 rows x 2 columns]>\n"
     ]
    }
   ],
   "source": [
    "print(data.head)"
   ]
  },
  {
   "cell_type": "code",
   "execution_count": 20,
   "metadata": {},
   "outputs": [],
   "source": [
    "data['label'] = data['label'].astype(int)"
   ]
  },
  {
   "cell_type": "code",
   "execution_count": 21,
   "metadata": {},
   "outputs": [
    {
     "name": "stdout",
     "output_type": "stream",
     "text": [
      "int64\n"
     ]
    }
   ],
   "source": [
    "print(data['label'].dtype)"
   ]
  },
  {
   "cell_type": "code",
   "execution_count": 31,
   "metadata": {},
   "outputs": [
    {
     "name": "stdout",
     "output_type": "stream",
     "text": [
      "['1' '0']\n"
     ]
    }
   ],
   "source": [
    "#check for strings in label\n",
    "print(data['label'].astype(str).unique())\n",
    "\n",
    "\n"
   ]
  },
  {
   "cell_type": "code",
   "execution_count": 22,
   "metadata": {},
   "outputs": [],
   "source": [
    "data.to_csv('datasets/WELFake_Dataset_cleaned.csv', index=False)"
   ]
  }
 ],
 "metadata": {
  "kernelspec": {
   "display_name": "venv",
   "language": "python",
   "name": "python3"
  },
  "language_info": {
   "codemirror_mode": {
    "name": "ipython",
    "version": 3
   },
   "file_extension": ".py",
   "mimetype": "text/x-python",
   "name": "python",
   "nbconvert_exporter": "python",
   "pygments_lexer": "ipython3",
   "version": "3.12.0"
  }
 },
 "nbformat": 4,
 "nbformat_minor": 2
}
