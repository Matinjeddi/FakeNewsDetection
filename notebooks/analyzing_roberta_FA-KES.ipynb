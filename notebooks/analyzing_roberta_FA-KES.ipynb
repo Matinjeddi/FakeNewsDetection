{
 "cells": [
  {
   "cell_type": "code",
   "execution_count": 1,
   "metadata": {},
   "outputs": [
    {
     "name": "stderr",
     "output_type": "stream",
     "text": [
      "c:\\Users\\Matin\\Documents\\GitHub\\Examensarbete2025\\venv\\Lib\\site-packages\\tqdm\\auto.py:21: TqdmWarning: IProgress not found. Please update jupyter and ipywidgets. See https://ipywidgets.readthedocs.io/en/stable/user_install.html\n",
      "  from .autonotebook import tqdm as notebook_tqdm\n"
     ]
    },
    {
     "ename": "",
     "evalue": "",
     "output_type": "error",
     "traceback": [
      "\u001b[1;31mThe Kernel crashed while executing code in the current cell or a previous cell. \n",
      "\u001b[1;31mPlease review the code in the cell(s) to identify a possible cause of the failure. \n",
      "\u001b[1;31mClick <a href='https://aka.ms/vscodeJupyterKernelCrash'>here</a> for more info. \n",
      "\u001b[1;31mView Jupyter <a href='command:jupyter.viewOutput'>log</a> for further details."
     ]
    }
   ],
   "source": [
    "from transformers import RobertaForSequenceClassification, RobertaTokenizer\n",
    "from sklearn.metrics import classification_report, confusion_matrix\n",
    "import pandas as pd\n",
    "import torch\n",
    "import matplotlib.pyplot as plt\n",
    "import seaborn as sns\n"
   ]
  },
  {
   "cell_type": "code",
   "execution_count": 4,
   "metadata": {},
   "outputs": [],
   "source": [
    "df = pd.read_csv('../datasets/FA-KES-Dataset_cleaned.csv')\n"
   ]
  },
  {
   "cell_type": "code",
   "execution_count": 5,
   "metadata": {},
   "outputs": [],
   "source": [
    "model_path = '../models/fake-news-roberta'\n",
    "roberta = RobertaForSequenceClassification.from_pretrained(model_path, num_labels=2)\n",
    "tokenizer = RobertaTokenizer.from_pretrained(model_path)\n"
   ]
  },
  {
   "cell_type": "code",
   "execution_count": 6,
   "metadata": {},
   "outputs": [],
   "source": [
    "text = df['text'].values\n",
    "text = [str(text) for text in text]\n",
    "# 1500 length\n",
    "text = [text[:1500] if len(text) > 1500 else text for text in text]\n"
   ]
  },
  {
   "cell_type": "code",
   "execution_count": 8,
   "metadata": {},
   "outputs": [],
   "source": [
    "true_labels = df['label'].to_list()\n"
   ]
  },
  {
   "cell_type": "code",
   "execution_count": 10,
   "metadata": {},
   "outputs": [],
   "source": [
    "#predict test dataset in batches\n",
    "batch_size = 2\n",
    "predicted_labels = []\n",
    "\n",
    "for i in range(0, len(text), batch_size):\n",
    "    batch_texts = text[i:i + batch_size]\n",
    "    inputs = tokenizer(batch_texts, padding=True, truncation=True, return_tensors='pt')\n",
    "    outputs = roberta(**inputs)\n",
    "\n",
    "    logits = outputs.logits  # [batch_size, num_labels]\n",
    "    batch_preds = torch.argmax(logits, dim=1)  # [batch_size]\n",
    "    predicted_labels.extend(batch_preds.tolist())  # [0, 1, 2, ...]\n"
   ]
  },
  {
   "cell_type": "code",
   "execution_count": 11,
   "metadata": {},
   "outputs": [
    {
     "name": "stdout",
     "output_type": "stream",
     "text": [
      "              precision    recall  f1-score   support\n",
      "\n",
      "           0       0.45      0.23      0.31       378\n",
      "           1       0.52      0.75      0.62       426\n",
      "\n",
      "    accuracy                           0.50       804\n",
      "   macro avg       0.49      0.49      0.46       804\n",
      "weighted avg       0.49      0.50      0.47       804\n",
      "\n",
      "[[ 88 290]\n",
      " [108 318]]\n"
     ]
    }
   ],
   "source": [
    "y_pred = predicted_labels\n",
    "y_true = true_labels\n",
    "\n",
    "print(classification_report(y_true, y_pred))\n",
    "#visualize the confusion matrix\n",
    "\n"
   ]
  }
 ],
 "metadata": {
  "kernelspec": {
   "display_name": "venv",
   "language": "python",
   "name": "python3"
  },
  "language_info": {
   "codemirror_mode": {
    "name": "ipython",
    "version": 3
   },
   "file_extension": ".py",
   "mimetype": "text/x-python",
   "name": "python",
   "nbconvert_exporter": "python",
   "pygments_lexer": "ipython3",
   "version": "3.12.0"
  }
 },
 "nbformat": 4,
 "nbformat_minor": 2
}
