{
 "cells": [
  {
   "cell_type": "code",
   "execution_count": 1,
   "metadata": {},
   "outputs": [],
   "source": [
    "import pandas as pd\n",
    "import re"
   ]
  },
  {
   "cell_type": "code",
   "execution_count": 3,
   "metadata": {},
   "outputs": [],
   "source": [
    "data = pd.read_csv('../datasets/WELFake_Dataset.csv', sep=',', on_bad_lines='skip')"
   ]
  },
  {
   "cell_type": "code",
   "execution_count": 4,
   "metadata": {},
   "outputs": [
    {
     "name": "stdout",
     "output_type": "stream",
     "text": [
      "   Unnamed: 0                                              title  \\\n",
      "0           0  LAW ENFORCEMENT ON HIGH ALERT Following Threat...   \n",
      "1           2  UNBELIEVABLE! OBAMA’S ATTORNEY GENERAL SAYS MO...   \n",
      "2           3  Bobby Jindal, raised Hindu, uses story of Chri...   \n",
      "3           4  SATAN 2: Russia unvelis an image of its terrif...   \n",
      "4           5  About Time! Christian Group Sues Amazon and SP...   \n",
      "\n",
      "                                                text  label  \n",
      "0                                                NaN    NaN  \n",
      "1   Now, most of the demonstrators gathered last ...    1.0  \n",
      "2  A dozen politically active pastors came here f...    0.0  \n",
      "3  The RS-28 Sarmat missile, dubbed Satan 2, will...    1.0  \n",
      "4  All we can say on this one is it s about time ...    1.0  \n"
     ]
    }
   ],
   "source": [
    "print(data.head())"
   ]
  },
  {
   "cell_type": "code",
   "execution_count": 5,
   "metadata": {},
   "outputs": [
    {
     "name": "stdout",
     "output_type": "stream",
     "text": [
      "<bound method NDFrame.head of                                                    title  \\\n",
      "0      LAW ENFORCEMENT ON HIGH ALERT Following Threat...   \n",
      "1      UNBELIEVABLE! OBAMA’S ATTORNEY GENERAL SAYS MO...   \n",
      "2      Bobby Jindal, raised Hindu, uses story of Chri...   \n",
      "3      SATAN 2: Russia unvelis an image of its terrif...   \n",
      "4      About Time! Christian Group Sues Amazon and SP...   \n",
      "...                                                  ...   \n",
      "72128  Russians steal research on Trump in hack of U....   \n",
      "72129   WATCH: Giuliani Demands That Democrats Apolog...   \n",
      "72130  Migrants Refuse To Leave Train At Refugee Camp...   \n",
      "72131  Trump tussle gives unpopular Mexican leader mu...   \n",
      "72132  Goldman Sachs Endorses Hillary Clinton For Pre...   \n",
      "\n",
      "                                                    text  label  \n",
      "0                                                    NaN    NaN  \n",
      "1       Now, most of the demonstrators gathered last ...    1.0  \n",
      "2      A dozen politically active pastors came here f...    0.0  \n",
      "3      The RS-28 Sarmat missile, dubbed Satan 2, will...    1.0  \n",
      "4      All we can say on this one is it s about time ...    1.0  \n",
      "...                                                  ...    ...  \n",
      "72128  WASHINGTON (Reuters) - Hackers believed to be ...    0.0  \n",
      "72129  You know, because in fantasyland Republicans n...    1.0  \n",
      "72130  Migrants Refuse To Leave Train At Refugee Camp...    0.0  \n",
      "72131  MEXICO CITY (Reuters) - Donald Trump’s combati...    0.0  \n",
      "72132  Goldman Sachs Endorses Hillary Clinton For Pre...    1.0  \n",
      "\n",
      "[72133 rows x 3 columns]>\n"
     ]
    }
   ],
   "source": [
    "data = data.drop(data.columns[0], axis=1)\n",
    "print(data.head)"
   ]
  },
  {
   "cell_type": "code",
   "execution_count": 6,
   "metadata": {},
   "outputs": [
    {
     "name": "stdout",
     "output_type": "stream",
     "text": [
      "<bound method NDFrame.head of                                                     text  label\n",
      "0                                                    NaN    NaN\n",
      "1      UNBELIEVABLE! OBAMA’S ATTORNEY GENERAL SAYS MO...    1.0\n",
      "2      Bobby Jindal, raised Hindu, uses story of Chri...    0.0\n",
      "3      SATAN 2: Russia unvelis an image of its terrif...    1.0\n",
      "4      About Time! Christian Group Sues Amazon and SP...    1.0\n",
      "...                                                  ...    ...\n",
      "72128  Russians steal research on Trump in hack of U....    0.0\n",
      "72129   WATCH: Giuliani Demands That Democrats Apolog...    1.0\n",
      "72130  Migrants Refuse To Leave Train At Refugee Camp...    0.0\n",
      "72131  Trump tussle gives unpopular Mexican leader mu...    0.0\n",
      "72132  Goldman Sachs Endorses Hillary Clinton For Pre...    1.0\n",
      "\n",
      "[72133 rows x 2 columns]>\n"
     ]
    }
   ],
   "source": [
    "#combine title and text\n",
    "data['text'] = data['title'] + '\\n\\n' + data['text']\n",
    "data = data.drop(['title'], axis=1)\n",
    "print(data.head)"
   ]
  },
  {
   "cell_type": "code",
   "execution_count": 7,
   "metadata": {},
   "outputs": [],
   "source": [
    "data.dropna(subset=['text'], inplace=True)\n",
    "data = data.reset_index(drop=True)"
   ]
  },
  {
   "cell_type": "code",
   "execution_count": 8,
   "metadata": {},
   "outputs": [],
   "source": [
    "def preprocess_text(text):\n",
    "    # Convert to lowercase\n",
    "    text = text.lower()\n",
    "    # Remove URLs\n",
    "    text = re.sub(r'http\\S+|www\\S+|https\\S+', '', text, flags=re.MULTILINE)\n",
    "    # Remove special characters and digits\n",
    "    text = re.sub(r'\\W', ' ', text)\n",
    "    text = re.sub(r'\\d', ' ', text)\n",
    "    text = re.sub(r'\\s+', ' ', text)\n",
    "    text = re.sub(r'\\n', ' ', text)\n",
    "    # Remove extra whitespace\n",
    "    text = ' '.join(text.split())\n",
    "    return text"
   ]
  },
  {
   "cell_type": "code",
   "execution_count": 9,
   "metadata": {},
   "outputs": [],
   "source": [
    "data['text'] = data['text'].apply(preprocess_text)"
   ]
  },
  {
   "cell_type": "code",
   "execution_count": 17,
   "metadata": {},
   "outputs": [
    {
     "name": "stdout",
     "output_type": "stream",
     "text": [
      "<class 'pandas.core.frame.DataFrame'>\n",
      "RangeIndex: 71536 entries, 0 to 71535\n",
      "Data columns (total 2 columns):\n",
      " #   Column  Non-Null Count  Dtype \n",
      "---  ------  --------------  ----- \n",
      " 0   text    71536 non-null  object\n",
      " 1   label   71536 non-null  int64 \n",
      "dtypes: int64(1), object(1)\n",
      "memory usage: 1.1+ MB\n",
      "None\n"
     ]
    }
   ],
   "source": [
    "print(data.info())"
   ]
  },
  {
   "cell_type": "code",
   "execution_count": 10,
   "metadata": {},
   "outputs": [
    {
     "name": "stdout",
     "output_type": "stream",
     "text": [
      "<bound method NDFrame.head of                                                     text  label\n",
      "0      unbelievable obama s attorney general says mos...    1.0\n",
      "1      bobby jindal raised hindu uses story of christ...    0.0\n",
      "2      satan russia unvelis an image of its terrifyin...    1.0\n",
      "3      about time christian group sues amazon and spl...    1.0\n",
      "4      dr ben carson targeted by the irs i never had ...    1.0\n",
      "...                                                  ...    ...\n",
      "71531  russians steal research on trump in hack of u ...    0.0\n",
      "71532  watch giuliani demands that democrats apologiz...    1.0\n",
      "71533  migrants refuse to leave train at refugee camp...    0.0\n",
      "71534  trump tussle gives unpopular mexican leader mu...    0.0\n",
      "71535  goldman sachs endorses hillary clinton for pre...    1.0\n",
      "\n",
      "[71536 rows x 2 columns]>\n"
     ]
    }
   ],
   "source": [
    "print(data.head)"
   ]
  },
  {
   "cell_type": "code",
   "execution_count": 11,
   "metadata": {},
   "outputs": [],
   "source": [
    "data['label'] = data['label'].astype(int)"
   ]
  },
  {
   "cell_type": "code",
   "execution_count": 12,
   "metadata": {},
   "outputs": [],
   "source": [
    "#fake = 0, real = 1\n",
    "data['label'] = data['label'].map({1: 0, 0: 1})"
   ]
  },
  {
   "cell_type": "code",
   "execution_count": 13,
   "metadata": {},
   "outputs": [
    {
     "data": {
      "text/html": [
       "<div>\n",
       "<style scoped>\n",
       "    .dataframe tbody tr th:only-of-type {\n",
       "        vertical-align: middle;\n",
       "    }\n",
       "\n",
       "    .dataframe tbody tr th {\n",
       "        vertical-align: top;\n",
       "    }\n",
       "\n",
       "    .dataframe thead th {\n",
       "        text-align: right;\n",
       "    }\n",
       "</style>\n",
       "<table border=\"1\" class=\"dataframe\">\n",
       "  <thead>\n",
       "    <tr style=\"text-align: right;\">\n",
       "      <th></th>\n",
       "      <th>text</th>\n",
       "      <th>label</th>\n",
       "    </tr>\n",
       "  </thead>\n",
       "  <tbody>\n",
       "    <tr>\n",
       "      <th>0</th>\n",
       "      <td>unbelievable obama s attorney general says mos...</td>\n",
       "      <td>0</td>\n",
       "    </tr>\n",
       "    <tr>\n",
       "      <th>1</th>\n",
       "      <td>bobby jindal raised hindu uses story of christ...</td>\n",
       "      <td>1</td>\n",
       "    </tr>\n",
       "    <tr>\n",
       "      <th>2</th>\n",
       "      <td>satan russia unvelis an image of its terrifyin...</td>\n",
       "      <td>0</td>\n",
       "    </tr>\n",
       "    <tr>\n",
       "      <th>3</th>\n",
       "      <td>about time christian group sues amazon and spl...</td>\n",
       "      <td>0</td>\n",
       "    </tr>\n",
       "    <tr>\n",
       "      <th>4</th>\n",
       "      <td>dr ben carson targeted by the irs i never had ...</td>\n",
       "      <td>0</td>\n",
       "    </tr>\n",
       "  </tbody>\n",
       "</table>\n",
       "</div>"
      ],
      "text/plain": [
       "                                                text  label\n",
       "0  unbelievable obama s attorney general says mos...      0\n",
       "1  bobby jindal raised hindu uses story of christ...      1\n",
       "2  satan russia unvelis an image of its terrifyin...      0\n",
       "3  about time christian group sues amazon and spl...      0\n",
       "4  dr ben carson targeted by the irs i never had ...      0"
      ]
     },
     "execution_count": 13,
     "metadata": {},
     "output_type": "execute_result"
    }
   ],
   "source": [
    "data.head()"
   ]
  },
  {
   "cell_type": "code",
   "execution_count": 14,
   "metadata": {},
   "outputs": [
    {
     "name": "stdout",
     "output_type": "stream",
     "text": [
      "int64\n"
     ]
    }
   ],
   "source": [
    "print(data['label'].dtype)"
   ]
  },
  {
   "cell_type": "code",
   "execution_count": 15,
   "metadata": {},
   "outputs": [
    {
     "name": "stdout",
     "output_type": "stream",
     "text": [
      "['0' '1']\n"
     ]
    }
   ],
   "source": [
    "#check for strings in label\n",
    "print(data['label'].astype(str).unique())"
   ]
  },
  {
   "cell_type": "code",
   "execution_count": null,
   "metadata": {},
   "outputs": [],
   "source": []
  },
  {
   "cell_type": "code",
   "execution_count": 16,
   "metadata": {},
   "outputs": [],
   "source": [
    "data.to_csv('../datasets/WELFake_Dataset_cleaned.csv', index=False)"
   ]
  }
 ],
 "metadata": {
  "kernelspec": {
   "display_name": "venv",
   "language": "python",
   "name": "python3"
  },
  "language_info": {
   "codemirror_mode": {
    "name": "ipython",
    "version": 3
   },
   "file_extension": ".py",
   "mimetype": "text/x-python",
   "name": "python",
   "nbconvert_exporter": "python",
   "pygments_lexer": "ipython3",
   "version": "3.12.0"
  }
 },
 "nbformat": 4,
 "nbformat_minor": 2
}
